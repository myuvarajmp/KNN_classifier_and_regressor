{
 "cells": [
  {
   "cell_type": "code",
   "execution_count": 23,
   "metadata": {},
   "outputs": [],
   "source": [
    "import numpy as np\n",
    "import pandas as pd\n",
    "import os\n",
    "import math\n",
    "from sklearn.model_selection import train_test_split\n",
    "from sklearn.metrics import mean_absolute_error,mean_squared_error, r2_score\n",
    "from sklearn.preprocessing import StandardScaler"
   ]
  },
  {
   "cell_type": "code",
   "execution_count": 3,
   "metadata": {},
   "outputs": [],
   "source": [
    "cars = pd.read_csv(\"cars.csv\")"
   ]
  },
  {
   "cell_type": "code",
   "execution_count": 4,
   "metadata": {},
   "outputs": [
    {
     "data": {
      "text/html": [
       "<div>\n",
       "<style scoped>\n",
       "    .dataframe tbody tr th:only-of-type {\n",
       "        vertical-align: middle;\n",
       "    }\n",
       "\n",
       "    .dataframe tbody tr th {\n",
       "        vertical-align: top;\n",
       "    }\n",
       "\n",
       "    .dataframe thead th {\n",
       "        text-align: right;\n",
       "    }\n",
       "</style>\n",
       "<table border=\"1\" class=\"dataframe\">\n",
       "  <thead>\n",
       "    <tr style=\"text-align: right;\">\n",
       "      <th></th>\n",
       "      <th>Id</th>\n",
       "      <th>Car</th>\n",
       "      <th>MPG</th>\n",
       "      <th>Cylinders</th>\n",
       "      <th>Displacement</th>\n",
       "      <th>Horsepower</th>\n",
       "      <th>Weight</th>\n",
       "      <th>Acceleration</th>\n",
       "      <th>Model</th>\n",
       "      <th>Origin</th>\n",
       "    </tr>\n",
       "  </thead>\n",
       "  <tbody>\n",
       "    <tr>\n",
       "      <th>0</th>\n",
       "      <td>1</td>\n",
       "      <td>Chevrolet Chevelle Malibu</td>\n",
       "      <td>18.0</td>\n",
       "      <td>8</td>\n",
       "      <td>307.0</td>\n",
       "      <td>130</td>\n",
       "      <td>3504</td>\n",
       "      <td>12.0</td>\n",
       "      <td>70</td>\n",
       "      <td>US</td>\n",
       "    </tr>\n",
       "    <tr>\n",
       "      <th>1</th>\n",
       "      <td>2</td>\n",
       "      <td>Buick Skylark 320</td>\n",
       "      <td>15.0</td>\n",
       "      <td>8</td>\n",
       "      <td>350.0</td>\n",
       "      <td>165</td>\n",
       "      <td>3693</td>\n",
       "      <td>11.5</td>\n",
       "      <td>70</td>\n",
       "      <td>US</td>\n",
       "    </tr>\n",
       "  </tbody>\n",
       "</table>\n",
       "</div>"
      ],
      "text/plain": [
       "   Id                        Car   MPG  Cylinders  Displacement  Horsepower  \\\n",
       "0   1  Chevrolet Chevelle Malibu  18.0          8         307.0         130   \n",
       "1   2          Buick Skylark 320  15.0          8         350.0         165   \n",
       "\n",
       "   Weight  Acceleration  Model Origin  \n",
       "0    3504          12.0     70     US  \n",
       "1    3693          11.5     70     US  "
      ]
     },
     "execution_count": 4,
     "metadata": {},
     "output_type": "execute_result"
    }
   ],
   "source": [
    "cars.head(2)"
   ]
  },
  {
   "cell_type": "code",
   "execution_count": 5,
   "metadata": {},
   "outputs": [],
   "source": [
    "x = cars[['Weight']]\n",
    "y = cars[['MPG']]"
   ]
  },
  {
   "cell_type": "code",
   "execution_count": 6,
   "metadata": {},
   "outputs": [],
   "source": [
    "X_train, X_test, y_train, y_test = train_test_split(x, y,test_size = 0.3,random_state = 100)"
   ]
  },
  {
   "cell_type": "code",
   "execution_count": 7,
   "metadata": {},
   "outputs": [],
   "source": [
    "y_train = np.array(y_train)"
   ]
  },
  {
   "cell_type": "code",
   "execution_count": 8,
   "metadata": {},
   "outputs": [],
   "source": [
    "index = 0\n",
    "output = []\n",
    "min_dist = math.inf\n",
    "for j in range(len(X_test)):\n",
    "    for i in range(len(X_train)):\n",
    "        distance = np.sqrt(np.sum((X_test.iloc[j,] - X_train.iloc[i,])**2))\n",
    "        if distance < min_dist:\n",
    "            min_dist = distance\n",
    "            index = i\n",
    "        else:\n",
    "            continue\n",
    "    min_dist = math.inf\n",
    "    \n",
    "    output.append(y_train[index][0])\n",
    "        "
   ]
  },
  {
   "cell_type": "code",
   "execution_count": 9,
   "metadata": {},
   "outputs": [],
   "source": [
    "y_test = np.array(y_test)"
   ]
  },
  {
   "cell_type": "code",
   "execution_count": 10,
   "metadata": {},
   "outputs": [],
   "source": [
    "original = []\n",
    "for i in range(len(y_test)):\n",
    "    original.append(y_test[i][0])"
   ]
  },
  {
   "cell_type": "code",
   "execution_count": 11,
   "metadata": {},
   "outputs": [
    {
     "name": "stdout",
     "output_type": "stream",
     "text": [
      "20.5 , 19.2\n",
      "34.5 , 33.8\n",
      "34.0 , 22.0\n",
      "28.0 , 25.0\n",
      "15.0 , 18.0\n",
      "23.0 , 26.8\n",
      "19.2 , 14.0\n",
      "21.0 , 26.0\n",
      "18.5 , 17.5\n",
      "24.5 , 27.0\n",
      "37.2 , 31.8\n",
      "16.0 , 13.0\n",
      "13.0 , 12.0\n",
      "36.1 , 36.1\n",
      "24.0 , 32.0\n",
      "28.0 , 21.5\n",
      "26.5 , 27.5\n",
      "19.0 , 24.2\n",
      "23.0 , 21.0\n",
      "25.0 , 25.0\n",
      "23.2 , 27.0\n",
      "24.0 , 26.8\n",
      "23.0 , 29.0\n",
      "25.0 , 29.0\n",
      "19.0 , 16.0\n",
      "16.0 , 15.5\n",
      "19.0 , 26.4\n",
      "19.2 , 17.5\n",
      "25.8 , 32.9\n",
      "24.0 , 30.0\n",
      "27.0 , 36.4\n",
      "17.0 , 18.0\n",
      "21.0 , 26.4\n",
      "33.5 , 26.0\n",
      "15.0 , 13.0\n",
      "29.0 , 29.0\n",
      "19.0 , 18.0\n",
      "33.5 , 27.5\n",
      "20.6 , 19.1\n",
      "14.0 , 15.5\n",
      "20.8 , 0.0\n",
      "24.5 , 29.0\n",
      "15.0 , 17.6\n",
      "17.5 , 27.2\n",
      "36.0 , 25.0\n",
      "19.0 , 43.4\n",
      "15.0 , 18.0\n",
      "30.0 , 32.8\n",
      "25.0 , 22.0\n",
      "19.0 , 16.0\n",
      "34.2 , 27.0\n",
      "36.0 , 30.0\n",
      "25.4 , 17.5\n",
      "11.0 , 16.5\n",
      "13.0 , 16.5\n",
      "16.0 , 18.0\n",
      "15.0 , 17.0\n",
      "32.3 , 30.0\n",
      "13.0 , 15.0\n",
      "13.0 , 14.0\n",
      "22.0 , 22.0\n",
      "20.2 , 21.0\n",
      "29.0 , 39.0\n",
      "20.5 , 19.2\n",
      "18.5 , 20.0\n",
      "26.0 , 32.2\n",
      "31.0 , 26.0\n",
      "33.0 , 33.0\n",
      "35.1 , 39.1\n",
      "30.5 , 33.0\n",
      "34.1 , 32.8\n",
      "23.0 , 16.0\n",
      "15.5 , 13.0\n",
      "20.6 , 19.9\n",
      "24.0 , 20.0\n",
      "32.0 , 31.0\n",
      "15.0 , 15.5\n",
      "19.8 , 18.0\n",
      "11.0 , 12.0\n",
      "28.0 , 25.0\n",
      "22.5 , 0.0\n",
      "30.7 , 15.0\n",
      "18.0 , 28.0\n",
      "13.0 , 16.0\n",
      "21.0 , 28.0\n",
      "46.6 , 40.8\n",
      "14.0 , 14.0\n",
      "13.0 , 13.0\n",
      "17.6 , 17.0\n",
      "14.5 , 17.5\n",
      "12.0 , 12.0\n",
      "31.3 , 25.0\n",
      "16.0 , 17.5\n",
      "20.3 , 22.0\n",
      "24.0 , 37.0\n",
      "30.5 , 37.7\n",
      "22.0 , 20.0\n",
      "19.4 , 17.6\n",
      "32.7 , 20.0\n",
      "30.0 , 29.9\n",
      "31.0 , 38.1\n",
      "38.0 , 25.0\n",
      "16.0 , 14.0\n",
      "28.0 , 29.0\n",
      "14.0 , 16.9\n",
      "14.0 , 13.0\n",
      "17.0 , 18.2\n",
      "25.0 , 31.0\n",
      "19.0 , 25.4\n",
      "34.4 , 31.5\n",
      "16.0 , 18.0\n",
      "24.0 , 36.0\n",
      "14.0 , 0.0\n",
      "28.1 , 22.0\n",
      "15.0 , 20.2\n",
      "27.2 , 24.0\n",
      "31.0 , 39.1\n",
      "24.0 , 26.4\n",
      "22.0 , 21.1\n",
      "34.0 , 26.0\n",
      "13.0 , 14.0\n",
      "18.0 , 17.0\n"
     ]
    }
   ],
   "source": [
    "for i in range(len(output)):\n",
    "    print(original[i],',',output[i])"
   ]
  },
  {
   "cell_type": "code",
   "execution_count": 27,
   "metadata": {},
   "outputs": [
    {
     "name": "stdout",
     "output_type": "stream",
     "text": [
      "40.34950819672131\n"
     ]
    }
   ],
   "source": [
    "#Evaluvation: MSE\n",
    "model_mse = mean_squared_error(y_test, output)\n",
    "print(model_mse)"
   ]
  },
  {
   "cell_type": "code",
   "execution_count": null,
   "metadata": {},
   "outputs": [],
   "source": []
  }
 ],
 "metadata": {
  "kernelspec": {
   "display_name": "Python 3",
   "language": "python",
   "name": "python3"
  },
  "language_info": {
   "codemirror_mode": {
    "name": "ipython",
    "version": 3
   },
   "file_extension": ".py",
   "mimetype": "text/x-python",
   "name": "python",
   "nbconvert_exporter": "python",
   "pygments_lexer": "ipython3",
   "version": "3.8.3"
  }
 },
 "nbformat": 4,
 "nbformat_minor": 2
}
